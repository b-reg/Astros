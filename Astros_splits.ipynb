{
 "cells": [
  {
   "cell_type": "code",
   "execution_count": 4,
   "metadata": {},
   "outputs": [],
   "source": [
    "import numpy as np\n",
    "import pandas as pd\n",
    "import matplotlib.pyplot as plt\n",
    "import seaborn as sns\n",
    "%matplotlib inline\n",
    "import tabula"
   ]
  },
  {
   "cell_type": "markdown",
   "metadata": {},
   "source": [
    "Team Splits"
   ]
  },
  {
   "cell_type": "markdown",
   "metadata": {},
   "source": [
    "This part aims to explore two variables surrounding the astros scandal; how drastic was the change in key team statistics, and what were the differences in performance on the road and at home."
   ]
  },
  {
   "cell_type": "markdown",
   "metadata": {},
   "source": [
    "**Teams can have differences in performance based whether there playing infront of their home crowd or on the road in visiting stadiums. We know the astros were not cheating on the road. Therefore we can compare statistical baseball for games when they were and were not cheating"
   ]
  },
  {
   "cell_type": "markdown",
   "metadata": {},
   "source": [
    "** Note: 2022 Season is still in progress, stats for this season are incomplete. "
   ]
  },
  {
   "cell_type": "code",
   "execution_count": 5,
   "metadata": {},
   "outputs": [
    {
     "data": {
      "text/html": [
       "<div>\n",
       "<style scoped>\n",
       "    .dataframe tbody tr th:only-of-type {\n",
       "        vertical-align: middle;\n",
       "    }\n",
       "\n",
       "    .dataframe tbody tr th {\n",
       "        vertical-align: top;\n",
       "    }\n",
       "\n",
       "    .dataframe thead th {\n",
       "        text-align: right;\n",
       "    }\n",
       "</style>\n",
       "<table border=\"1\" class=\"dataframe\">\n",
       "  <thead>\n",
       "    <tr style=\"text-align: right;\">\n",
       "      <th></th>\n",
       "      <th>Season</th>\n",
       "      <th>Game Type</th>\n",
       "      <th>Tm</th>\n",
       "      <th>PA</th>\n",
       "      <th>BB%</th>\n",
       "      <th>K%</th>\n",
       "      <th>BB/K</th>\n",
       "      <th>AVG</th>\n",
       "      <th>OBP</th>\n",
       "      <th>SLG</th>\n",
       "      <th>OPS</th>\n",
       "      <th>ISO</th>\n",
       "      <th>BABIP</th>\n",
       "      <th>wRC</th>\n",
       "      <th>wRAA</th>\n",
       "      <th>wOBA</th>\n",
       "      <th>wRC+</th>\n",
       "    </tr>\n",
       "  </thead>\n",
       "  <tbody>\n",
       "    <tr>\n",
       "      <th>0</th>\n",
       "      <td>2016</td>\n",
       "      <td>Home</td>\n",
       "      <td>HOU</td>\n",
       "      <td>3040</td>\n",
       "      <td>0.090</td>\n",
       "      <td>0.245</td>\n",
       "      <td>0.4</td>\n",
       "      <td>0.238</td>\n",
       "      <td>0.311</td>\n",
       "      <td>0.407</td>\n",
       "      <td>0.717</td>\n",
       "      <td>0.169</td>\n",
       "      <td>0.291</td>\n",
       "      <td>336</td>\n",
       "      <td>-22.0</td>\n",
       "      <td>0.309</td>\n",
       "      <td>100</td>\n",
       "    </tr>\n",
       "    <tr>\n",
       "      <th>1</th>\n",
       "      <td>2016</td>\n",
       "      <td>Away</td>\n",
       "      <td>HOU</td>\n",
       "      <td>3164</td>\n",
       "      <td>0.088</td>\n",
       "      <td>0.224</td>\n",
       "      <td>0.4</td>\n",
       "      <td>0.255</td>\n",
       "      <td>0.326</td>\n",
       "      <td>0.426</td>\n",
       "      <td>0.752</td>\n",
       "      <td>0.171</td>\n",
       "      <td>0.304</td>\n",
       "      <td>387</td>\n",
       "      <td>14.7</td>\n",
       "      <td>0.324</td>\n",
       "      <td>102</td>\n",
       "    </tr>\n",
       "    <tr>\n",
       "      <th>2</th>\n",
       "      <td>2017</td>\n",
       "      <td>Home</td>\n",
       "      <td>HOU</td>\n",
       "      <td>3009</td>\n",
       "      <td>0.077</td>\n",
       "      <td>0.167</td>\n",
       "      <td>0.5</td>\n",
       "      <td>0.279</td>\n",
       "      <td>0.340</td>\n",
       "      <td>0.472</td>\n",
       "      <td>0.812</td>\n",
       "      <td>0.193</td>\n",
       "      <td>0.302</td>\n",
       "      <td>425</td>\n",
       "      <td>58.3</td>\n",
       "      <td>0.344</td>\n",
       "      <td>121</td>\n",
       "    </tr>\n",
       "    <tr>\n",
       "      <th>3</th>\n",
       "      <td>2017</td>\n",
       "      <td>Away</td>\n",
       "      <td>HOU</td>\n",
       "      <td>3262</td>\n",
       "      <td>0.085</td>\n",
       "      <td>0.179</td>\n",
       "      <td>0.5</td>\n",
       "      <td>0.284</td>\n",
       "      <td>0.351</td>\n",
       "      <td>0.483</td>\n",
       "      <td>0.834</td>\n",
       "      <td>0.199</td>\n",
       "      <td>0.315</td>\n",
       "      <td>486</td>\n",
       "      <td>88.8</td>\n",
       "      <td>0.353</td>\n",
       "      <td>121</td>\n",
       "    </tr>\n",
       "    <tr>\n",
       "      <th>4</th>\n",
       "      <td>2018</td>\n",
       "      <td>Home</td>\n",
       "      <td>HOU</td>\n",
       "      <td>2981</td>\n",
       "      <td>0.099</td>\n",
       "      <td>0.192</td>\n",
       "      <td>0.5</td>\n",
       "      <td>0.248</td>\n",
       "      <td>0.328</td>\n",
       "      <td>0.403</td>\n",
       "      <td>0.730</td>\n",
       "      <td>0.155</td>\n",
       "      <td>0.282</td>\n",
       "      <td>358</td>\n",
       "      <td>9.2</td>\n",
       "      <td>0.318</td>\n",
       "      <td>108</td>\n",
       "    </tr>\n",
       "    <tr>\n",
       "      <th>5</th>\n",
       "      <td>2018</td>\n",
       "      <td>Away</td>\n",
       "      <td>HOU</td>\n",
       "      <td>3165</td>\n",
       "      <td>0.086</td>\n",
       "      <td>0.197</td>\n",
       "      <td>0.4</td>\n",
       "      <td>0.262</td>\n",
       "      <td>0.331</td>\n",
       "      <td>0.446</td>\n",
       "      <td>0.777</td>\n",
       "      <td>0.185</td>\n",
       "      <td>0.296</td>\n",
       "      <td>420</td>\n",
       "      <td>50.4</td>\n",
       "      <td>0.334</td>\n",
       "      <td>111</td>\n",
       "    </tr>\n",
       "    <tr>\n",
       "      <th>6</th>\n",
       "      <td>2019</td>\n",
       "      <td>Home</td>\n",
       "      <td>HOU</td>\n",
       "      <td>3124</td>\n",
       "      <td>0.102</td>\n",
       "      <td>0.185</td>\n",
       "      <td>0.5</td>\n",
       "      <td>0.284</td>\n",
       "      <td>0.362</td>\n",
       "      <td>0.516</td>\n",
       "      <td>0.878</td>\n",
       "      <td>0.233</td>\n",
       "      <td>0.308</td>\n",
       "      <td>518</td>\n",
       "      <td>124.8</td>\n",
       "      <td>0.366</td>\n",
       "      <td>134</td>\n",
       "    </tr>\n",
       "    <tr>\n",
       "      <th>7</th>\n",
       "      <td>2019</td>\n",
       "      <td>Away</td>\n",
       "      <td>HOU</td>\n",
       "      <td>3270</td>\n",
       "      <td>0.100</td>\n",
       "      <td>0.180</td>\n",
       "      <td>0.6</td>\n",
       "      <td>0.265</td>\n",
       "      <td>0.343</td>\n",
       "      <td>0.476</td>\n",
       "      <td>0.819</td>\n",
       "      <td>0.211</td>\n",
       "      <td>0.286</td>\n",
       "      <td>478</td>\n",
       "      <td>66.8</td>\n",
       "      <td>0.344</td>\n",
       "      <td>115</td>\n",
       "    </tr>\n",
       "    <tr>\n",
       "      <th>8</th>\n",
       "      <td>2020</td>\n",
       "      <td>Home</td>\n",
       "      <td>HOU</td>\n",
       "      <td>1063</td>\n",
       "      <td>0.094</td>\n",
       "      <td>0.191</td>\n",
       "      <td>0.5</td>\n",
       "      <td>0.239</td>\n",
       "      <td>0.317</td>\n",
       "      <td>0.406</td>\n",
       "      <td>0.723</td>\n",
       "      <td>0.168</td>\n",
       "      <td>0.270</td>\n",
       "      <td>128</td>\n",
       "      <td>-5.7</td>\n",
       "      <td>0.314</td>\n",
       "      <td>102</td>\n",
       "    </tr>\n",
       "    <tr>\n",
       "      <th>9</th>\n",
       "      <td>2020</td>\n",
       "      <td>Away</td>\n",
       "      <td>HOU</td>\n",
       "      <td>1165</td>\n",
       "      <td>0.079</td>\n",
       "      <td>0.203</td>\n",
       "      <td>0.4</td>\n",
       "      <td>0.241</td>\n",
       "      <td>0.308</td>\n",
       "      <td>0.409</td>\n",
       "      <td>0.717</td>\n",
       "      <td>0.168</td>\n",
       "      <td>0.276</td>\n",
       "      <td>136</td>\n",
       "      <td>-10.4</td>\n",
       "      <td>0.309</td>\n",
       "      <td>95</td>\n",
       "    </tr>\n",
       "    <tr>\n",
       "      <th>10</th>\n",
       "      <td>2021</td>\n",
       "      <td>Home</td>\n",
       "      <td>HOU</td>\n",
       "      <td>3089</td>\n",
       "      <td>0.096</td>\n",
       "      <td>0.191</td>\n",
       "      <td>0.5</td>\n",
       "      <td>0.267</td>\n",
       "      <td>0.342</td>\n",
       "      <td>0.445</td>\n",
       "      <td>0.787</td>\n",
       "      <td>0.179</td>\n",
       "      <td>0.302</td>\n",
       "      <td>434</td>\n",
       "      <td>60.4</td>\n",
       "      <td>0.338</td>\n",
       "      <td>119</td>\n",
       "    </tr>\n",
       "    <tr>\n",
       "      <th>11</th>\n",
       "      <td>2021</td>\n",
       "      <td>Away</td>\n",
       "      <td>HOU</td>\n",
       "      <td>3201</td>\n",
       "      <td>0.085</td>\n",
       "      <td>0.198</td>\n",
       "      <td>0.4</td>\n",
       "      <td>0.268</td>\n",
       "      <td>0.336</td>\n",
       "      <td>0.444</td>\n",
       "      <td>0.780</td>\n",
       "      <td>0.176</td>\n",
       "      <td>0.305</td>\n",
       "      <td>442</td>\n",
       "      <td>54.6</td>\n",
       "      <td>0.335</td>\n",
       "      <td>113</td>\n",
       "    </tr>\n",
       "    <tr>\n",
       "      <th>12</th>\n",
       "      <td>2022</td>\n",
       "      <td>Home</td>\n",
       "      <td>HOU</td>\n",
       "      <td>463</td>\n",
       "      <td>0.108</td>\n",
       "      <td>0.235</td>\n",
       "      <td>0.5</td>\n",
       "      <td>0.218</td>\n",
       "      <td>0.304</td>\n",
       "      <td>0.390</td>\n",
       "      <td>0.694</td>\n",
       "      <td>0.172</td>\n",
       "      <td>0.254</td>\n",
       "      <td>54</td>\n",
       "      <td>2.6</td>\n",
       "      <td>0.313</td>\n",
       "      <td>114</td>\n",
       "    </tr>\n",
       "    <tr>\n",
       "      <th>13</th>\n",
       "      <td>2022</td>\n",
       "      <td>Away</td>\n",
       "      <td>HOU</td>\n",
       "      <td>647</td>\n",
       "      <td>0.099</td>\n",
       "      <td>0.209</td>\n",
       "      <td>0.5</td>\n",
       "      <td>0.215</td>\n",
       "      <td>0.297</td>\n",
       "      <td>0.370</td>\n",
       "      <td>0.666</td>\n",
       "      <td>0.154</td>\n",
       "      <td>0.245</td>\n",
       "      <td>68</td>\n",
       "      <td>-3.0</td>\n",
       "      <td>0.299</td>\n",
       "      <td>100</td>\n",
       "    </tr>\n",
       "  </tbody>\n",
       "</table>\n",
       "</div>"
      ],
      "text/plain": [
       "    Season Game Type   Tm    PA    BB%     K%  BB/K    AVG    OBP    SLG  \\\n",
       "0     2016      Home  HOU  3040  0.090  0.245   0.4  0.238  0.311  0.407   \n",
       "1     2016      Away  HOU  3164  0.088  0.224   0.4  0.255  0.326  0.426   \n",
       "2     2017      Home  HOU  3009  0.077  0.167   0.5  0.279  0.340  0.472   \n",
       "3     2017      Away  HOU  3262  0.085  0.179   0.5  0.284  0.351  0.483   \n",
       "4     2018      Home  HOU  2981  0.099  0.192   0.5  0.248  0.328  0.403   \n",
       "5     2018      Away  HOU  3165  0.086  0.197   0.4  0.262  0.331  0.446   \n",
       "6     2019      Home  HOU  3124  0.102  0.185   0.5  0.284  0.362  0.516   \n",
       "7     2019      Away  HOU  3270  0.100  0.180   0.6  0.265  0.343  0.476   \n",
       "8     2020      Home  HOU  1063  0.094  0.191   0.5  0.239  0.317  0.406   \n",
       "9     2020      Away  HOU  1165  0.079  0.203   0.4  0.241  0.308  0.409   \n",
       "10    2021      Home  HOU  3089  0.096  0.191   0.5  0.267  0.342  0.445   \n",
       "11    2021      Away  HOU  3201  0.085  0.198   0.4  0.268  0.336  0.444   \n",
       "12    2022      Home  HOU   463  0.108  0.235   0.5  0.218  0.304  0.390   \n",
       "13    2022      Away  HOU   647  0.099  0.209   0.5  0.215  0.297  0.370   \n",
       "\n",
       "      OPS    ISO  BABIP  wRC   wRAA   wOBA  wRC+  \n",
       "0   0.717  0.169  0.291  336  -22.0  0.309   100  \n",
       "1   0.752  0.171  0.304  387   14.7  0.324   102  \n",
       "2   0.812  0.193  0.302  425   58.3  0.344   121  \n",
       "3   0.834  0.199  0.315  486   88.8  0.353   121  \n",
       "4   0.730  0.155  0.282  358    9.2  0.318   108  \n",
       "5   0.777  0.185  0.296  420   50.4  0.334   111  \n",
       "6   0.878  0.233  0.308  518  124.8  0.366   134  \n",
       "7   0.819  0.211  0.286  478   66.8  0.344   115  \n",
       "8   0.723  0.168  0.270  128   -5.7  0.314   102  \n",
       "9   0.717  0.168  0.276  136  -10.4  0.309    95  \n",
       "10  0.787  0.179  0.302  434   60.4  0.338   119  \n",
       "11  0.780  0.176  0.305  442   54.6  0.335   113  \n",
       "12  0.694  0.172  0.254   54    2.6  0.313   114  \n",
       "13  0.666  0.154  0.245   68   -3.0  0.299   100  "
      ]
     },
     "execution_count": 5,
     "metadata": {},
     "output_type": "execute_result"
    }
   ],
   "source": [
    "#import in a dataframe called sp\n",
    "url = r'C:\\Users\\hard\\drive\\filepath\\astros_bangs_20200127.xlsx'"
    "pd.set_option('display.max_columns', None)\n",
    "sp = pd.read_excel(url)\n",
    "#Renaming columns\n",
    "sp.rename(columns={'Game Type':'Dugout'}, inplace=True)\n",
    "sp"
   ]
  },
  {
   "cell_type": "markdown",
   "metadata": {},
   "source": [
    "Exploritory analysis"
   ]
  },
  {
   "cell_type": "code",
   "execution_count": 7,
   "metadata": {},
   "outputs": [
    {
     "data": {
      "text/html": [
       "<div>\n",
       "<style scoped>\n",
       "    .dataframe tbody tr th:only-of-type {\n",
       "        vertical-align: middle;\n",
       "    }\n",
       "\n",
       "    .dataframe tbody tr th {\n",
       "        vertical-align: top;\n",
       "    }\n",
       "\n",
       "    .dataframe thead th {\n",
       "        text-align: right;\n",
       "    }\n",
       "</style>\n",
       "<table border=\"1\" class=\"dataframe\">\n",
       "  <thead>\n",
       "    <tr style=\"text-align: right;\">\n",
       "      <th></th>\n",
       "      <th>Season</th>\n",
       "      <th>PA</th>\n",
       "      <th>BB%</th>\n",
       "      <th>K%</th>\n",
       "      <th>BB/K</th>\n",
       "      <th>AVG</th>\n",
       "      <th>OBP</th>\n",
       "      <th>SLG</th>\n",
       "      <th>OPS</th>\n",
       "      <th>ISO</th>\n",
       "      <th>BABIP</th>\n",
       "      <th>wRC</th>\n",
       "      <th>wRAA</th>\n",
       "      <th>wOBA</th>\n",
       "      <th>wRC+</th>\n",
       "    </tr>\n",
       "  </thead>\n",
       "  <tbody>\n",
       "    <tr>\n",
       "      <th>count</th>\n",
       "      <td>14.000000</td>\n",
       "      <td>14.000000</td>\n",
       "      <td>14.00000</td>\n",
       "      <td>14.000000</td>\n",
       "      <td>14.000000</td>\n",
       "      <td>14.000000</td>\n",
       "      <td>14.000000</td>\n",
       "      <td>14.000000</td>\n",
       "      <td>14.000000</td>\n",
       "      <td>14.000000</td>\n",
       "      <td>14.000000</td>\n",
       "      <td>14.000000</td>\n",
       "      <td>14.000000</td>\n",
       "      <td>14.000000</td>\n",
       "      <td>14.000000</td>\n",
       "    </tr>\n",
       "    <tr>\n",
       "      <th>mean</th>\n",
       "      <td>2019.000000</td>\n",
       "      <td>2474.500000</td>\n",
       "      <td>0.09200</td>\n",
       "      <td>0.199714</td>\n",
       "      <td>0.471429</td>\n",
       "      <td>0.254500</td>\n",
       "      <td>0.328286</td>\n",
       "      <td>0.435214</td>\n",
       "      <td>0.763286</td>\n",
       "      <td>0.180929</td>\n",
       "      <td>0.288286</td>\n",
       "      <td>333.571429</td>\n",
       "      <td>34.964286</td>\n",
       "      <td>0.328571</td>\n",
       "      <td>111.071429</td>\n",
       "    </tr>\n",
       "    <tr>\n",
       "      <th>std</th>\n",
       "      <td>2.075498</td>\n",
       "      <td>1091.487112</td>\n",
       "      <td>0.00914</td>\n",
       "      <td>0.022029</td>\n",
       "      <td>0.061125</td>\n",
       "      <td>0.022318</td>\n",
       "      <td>0.018959</td>\n",
       "      <td>0.041018</td>\n",
       "      <td>0.059533</td>\n",
       "      <td>0.021812</td>\n",
       "      <td>0.020849</td>\n",
       "      <td>163.899460</td>\n",
       "      <td>43.249911</td>\n",
       "      <td>0.019338</td>\n",
       "      <td>10.709193</td>\n",
       "    </tr>\n",
       "    <tr>\n",
       "      <th>min</th>\n",
       "      <td>2016.000000</td>\n",
       "      <td>463.000000</td>\n",
       "      <td>0.07700</td>\n",
       "      <td>0.167000</td>\n",
       "      <td>0.400000</td>\n",
       "      <td>0.215000</td>\n",
       "      <td>0.297000</td>\n",
       "      <td>0.370000</td>\n",
       "      <td>0.666000</td>\n",
       "      <td>0.154000</td>\n",
       "      <td>0.245000</td>\n",
       "      <td>54.000000</td>\n",
       "      <td>-22.000000</td>\n",
       "      <td>0.299000</td>\n",
       "      <td>95.000000</td>\n",
       "    </tr>\n",
       "    <tr>\n",
       "      <th>25%</th>\n",
       "      <td>2017.250000</td>\n",
       "      <td>1619.000000</td>\n",
       "      <td>0.08525</td>\n",
       "      <td>0.186500</td>\n",
       "      <td>0.400000</td>\n",
       "      <td>0.239500</td>\n",
       "      <td>0.312500</td>\n",
       "      <td>0.406250</td>\n",
       "      <td>0.718500</td>\n",
       "      <td>0.168250</td>\n",
       "      <td>0.277500</td>\n",
       "      <td>186.000000</td>\n",
       "      <td>-1.600000</td>\n",
       "      <td>0.313250</td>\n",
       "      <td>102.000000</td>\n",
       "    </tr>\n",
       "    <tr>\n",
       "      <th>50%</th>\n",
       "      <td>2019.000000</td>\n",
       "      <td>3064.500000</td>\n",
       "      <td>0.09200</td>\n",
       "      <td>0.194500</td>\n",
       "      <td>0.500000</td>\n",
       "      <td>0.258500</td>\n",
       "      <td>0.329500</td>\n",
       "      <td>0.435000</td>\n",
       "      <td>0.764500</td>\n",
       "      <td>0.174000</td>\n",
       "      <td>0.293500</td>\n",
       "      <td>403.500000</td>\n",
       "      <td>32.550000</td>\n",
       "      <td>0.329000</td>\n",
       "      <td>112.000000</td>\n",
       "    </tr>\n",
       "    <tr>\n",
       "      <th>75%</th>\n",
       "      <td>2020.750000</td>\n",
       "      <td>3164.750000</td>\n",
       "      <td>0.09900</td>\n",
       "      <td>0.207500</td>\n",
       "      <td>0.500000</td>\n",
       "      <td>0.267750</td>\n",
       "      <td>0.341500</td>\n",
       "      <td>0.465500</td>\n",
       "      <td>0.805750</td>\n",
       "      <td>0.191000</td>\n",
       "      <td>0.303500</td>\n",
       "      <td>440.000000</td>\n",
       "      <td>59.875000</td>\n",
       "      <td>0.342500</td>\n",
       "      <td>118.000000</td>\n",
       "    </tr>\n",
       "    <tr>\n",
       "      <th>max</th>\n",
       "      <td>2022.000000</td>\n",
       "      <td>3270.000000</td>\n",
       "      <td>0.10800</td>\n",
       "      <td>0.245000</td>\n",
       "      <td>0.600000</td>\n",
       "      <td>0.284000</td>\n",
       "      <td>0.362000</td>\n",
       "      <td>0.516000</td>\n",
       "      <td>0.878000</td>\n",
       "      <td>0.233000</td>\n",
       "      <td>0.315000</td>\n",
       "      <td>518.000000</td>\n",
       "      <td>124.800000</td>\n",
       "      <td>0.366000</td>\n",
       "      <td>134.000000</td>\n",
       "    </tr>\n",
       "  </tbody>\n",
       "</table>\n",
       "</div>"
      ],
      "text/plain": [
       "            Season           PA       BB%         K%       BB/K        AVG  \\\n",
       "count    14.000000    14.000000  14.00000  14.000000  14.000000  14.000000   \n",
       "mean   2019.000000  2474.500000   0.09200   0.199714   0.471429   0.254500   \n",
       "std       2.075498  1091.487112   0.00914   0.022029   0.061125   0.022318   \n",
       "min    2016.000000   463.000000   0.07700   0.167000   0.400000   0.215000   \n",
       "25%    2017.250000  1619.000000   0.08525   0.186500   0.400000   0.239500   \n",
       "50%    2019.000000  3064.500000   0.09200   0.194500   0.500000   0.258500   \n",
       "75%    2020.750000  3164.750000   0.09900   0.207500   0.500000   0.267750   \n",
       "max    2022.000000  3270.000000   0.10800   0.245000   0.600000   0.284000   \n",
       "\n",
       "             OBP        SLG        OPS        ISO      BABIP         wRC  \\\n",
       "count  14.000000  14.000000  14.000000  14.000000  14.000000   14.000000   \n",
       "mean    0.328286   0.435214   0.763286   0.180929   0.288286  333.571429   \n",
       "std     0.018959   0.041018   0.059533   0.021812   0.020849  163.899460   \n",
       "min     0.297000   0.370000   0.666000   0.154000   0.245000   54.000000   \n",
       "25%     0.312500   0.406250   0.718500   0.168250   0.277500  186.000000   \n",
       "50%     0.329500   0.435000   0.764500   0.174000   0.293500  403.500000   \n",
       "75%     0.341500   0.465500   0.805750   0.191000   0.303500  440.000000   \n",
       "max     0.362000   0.516000   0.878000   0.233000   0.315000  518.000000   \n",
       "\n",
       "             wRAA       wOBA        wRC+  \n",
       "count   14.000000  14.000000   14.000000  \n",
       "mean    34.964286   0.328571  111.071429  \n",
       "std     43.249911   0.019338   10.709193  \n",
       "min    -22.000000   0.299000   95.000000  \n",
       "25%     -1.600000   0.313250  102.000000  \n",
       "50%     32.550000   0.329000  112.000000  \n",
       "75%     59.875000   0.342500  118.000000  \n",
       "max    124.800000   0.366000  134.000000  "
      ]
     },
     "execution_count": 7,
     "metadata": {},
     "output_type": "execute_result"
    }
   ],
   "source": [
    "sp.describe()"
   ]
  },
  {
   "cell_type": "code",
   "execution_count": 8,
   "metadata": {},
   "outputs": [
    {
     "name": "stderr",
     "output_type": "stream",
     "text": [
      "C:\\Users\\benre\\AppData\\Local\\Temp\\ipykernel_18428\\2171739191.py:1: FutureWarning: Dropping of nuisance columns in DataFrame reductions (with 'numeric_only=None') is deprecated; in a future version this will raise TypeError.  Select only valid columns before calling the reduction.\n",
      "  sp.std()\n"
     ]
    },
    {
     "data": {
      "text/plain": [
       "Season       2.075498\n",
       "PA        1091.487112\n",
       "BB%          0.009140\n",
       "K%           0.022029\n",
       "BB/K         0.061125\n",
       "AVG          0.022318\n",
       "OBP          0.018959\n",
       "SLG          0.041018\n",
       "OPS          0.059533\n",
       "ISO          0.021812\n",
       "BABIP        0.020849\n",
       "wRC        163.899460\n",
       "wRAA        43.249911\n",
       "wOBA         0.019338\n",
       "wRC+        10.709193\n",
       "dtype: float64"
      ]
     },
     "execution_count": 8,
     "metadata": {},
     "output_type": "execute_result"
    }
   ],
   "source": [
    "sp.std()"
   ]
  },
  {
   "cell_type": "markdown",
   "metadata": {},
   "source": [
    "** One of the key statistics to look at is the astros Bases on Balls percentage (BB%) and Strikeout rate (K%) to see how they differ over the season and comparing home vs away."
   ]
  },
  {
   "cell_type": "code",
   "execution_count": 9,
   "metadata": {},
   "outputs": [
    {
     "data": {
      "text/plain": [
       "Text(0.5, 1.0, 'BB% Home vs Away Splits')"
      ]
     },
     "execution_count": 9,
     "metadata": {},
     "output_type": "execute_result"
    },
    {
     "data": {
      "image/png": "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",
      "text/plain": [
       "<Figure size 1080x720 with 1 Axes>"
      ]
     },
     "metadata": {
      "needs_background": "light"
     },
     "output_type": "display_data"
    }
   ],
   "source": [
    "#Plotting bases on balls percentage through the years. Home vs Away.\n",
    "plt.figure(figsize=(15,10))\n",
    "sns.set_style('darkgrid')\n",
    "bb = sns.barplot(data= sp, x= 'Season', y='BB%', hue='Dugout')\n",
    "bb.set_title('BB% Home vs Away Splits', fontsize=15)"
   ]
  },
  {
   "cell_type": "code",
   "execution_count": 10,
   "metadata": {},
   "outputs": [
    {
     "data": {
      "text/plain": [
       "Text(0.5, 1.0, 'K% Home vs Away Splits')"
      ]
     },
     "execution_count": 10,
     "metadata": {},
     "output_type": "execute_result"
    },
    {
     "data": {
      "image/png": "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",
      "text/plain": [
       "<Figure size 1080x720 with 1 Axes>"
      ]
     },
     "metadata": {},
     "output_type": "display_data"
    }
   ],
   "source": [
    "# Same with strikeouts\n",
    "plt.figure(figsize=(15,10))\n",
    "sns.set_style('darkgrid')\n",
    "k = sns.barplot(data= sp, x= 'Season', y='K%', hue='Dugout')\n",
    "k.set_title('K% Home vs Away Splits', fontsize=15)"
   ]
  },
  {
   "cell_type": "markdown",
   "metadata": {},
   "source": [
    "** OPS is a hallmark stat to assess whether a player or team his performing well on offensive. As its a catch all for how good a team or player is performaning at the plate."
   ]
  },
  {
   "cell_type": "code",
   "execution_count": 11,
   "metadata": {},
   "outputs": [
    {
     "data": {
      "text/plain": [
       "Text(0.5, 1.0, 'OPS Home vs. Away Splits')"
      ]
     },
     "execution_count": 11,
     "metadata": {},
     "output_type": "execute_result"
    },
    {
     "data": {
      "image/png": "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",
      "text/plain": [
       "<Figure size 1080x720 with 1 Axes>"
      ]
     },
     "metadata": {},
     "output_type": "display_data"
    }
   ],
   "source": [
    "# Comparing OPS through the years, at home or away.\n",
    "plt.figure(figsize=(15,10))\n",
    "sns.set_style('darkgrid')\n",
    "ops = sns.barplot(data= sp, x= 'Season', y='OPS', hue='Dugout')\n",
    "ops.set_title('OPS Home vs. Away Splits', fontsize=15)"
   ]
  },
  {
   "cell_type": "code",
   "execution_count": 12,
   "metadata": {},
   "outputs": [
    {
     "data": {
      "text/plain": [
       "Text(0.5, 1.0, 'wRC+ Home vs Away Splits')"
      ]
     },
     "execution_count": 12,
     "metadata": {},
     "output_type": "execute_result"
    },
    {
     "data": {
      "image/png": "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",
      "text/plain": [
       "<Figure size 1080x720 with 1 Axes>"
      ]
     },
     "metadata": {},
     "output_type": "display_data"
    }
   ],
   "source": [
    "#Same with runs created\n",
    "plt.figure(figsize=(15,10))\n",
    "sns.set_style('darkgrid')\n",
    "wrc = sns.barplot(data= sp, x= 'Season', y='wRC+', hue='Dugout')\n",
    "wrc.set_title('wRC+ Home vs Away Splits', fontsize=15)"
   ]
  },
  {
   "cell_type": "code",
   "execution_count": 13,
   "metadata": {},
   "outputs": [
    {
     "data": {
      "text/plain": [
       "Text(0.5, 1.0, 'wOBA Home vs Away Splits')"
      ]
     },
     "execution_count": 13,
     "metadata": {},
     "output_type": "execute_result"
    },
    {
     "data": {
      "image/png": "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",
      "text/plain": [
       "<Figure size 1080x720 with 1 Axes>"
      ]
     },
     "metadata": {},
     "output_type": "display_data"
    }
   ],
   "source": [
    "# Same plot as above, but with wOBA \n",
    "plt.figure(figsize=(15,10))\n",
    "sns.set_style('darkgrid')\n",
    "woba = sns.barplot(data= sp, x= 'Season', y='wOBA', hue='Dugout')\n",
    "woba.set_title('wOBA Home vs Away Splits', fontsize=15)"
   ]
  },
  {
   "cell_type": "markdown",
   "metadata": {},
   "source": [
    "Figure below is a different look at wOBA for Home and Away from 2016 to 2022"
   ]
  },
  {
   "cell_type": "code",
   "execution_count": 14,
   "metadata": {},
   "outputs": [
    {
     "data": {
      "text/plain": [
       "Text(0.5, 1.0, 'wOBA Home vs Away Splits')"
      ]
     },
     "execution_count": 14,
     "metadata": {},
     "output_type": "execute_result"
    },
    {
     "data": {
      "image/png": "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",
      "text/plain": [
       "<Figure size 1080x720 with 1 Axes>"
      ]
     },
     "metadata": {},
     "output_type": "display_data"
    }
   ],
   "source": [
    "plt.figure(figsize=(15,10))\n",
    "sns.set_style('darkgrid')\n",
    "woba_one = sns.lineplot(data= sp, x= 'Season', y='OPS', hue='Dugout')\n",
    "woba_one.set_title('wOBA Home vs Away Splits', fontsize=15)"
   ]
  },
  {
   "cell_type": "markdown",
   "metadata": {},
   "source": [
    "Comparison of 2017 Home vs. Away stats"
   ]
  },
  {
   "cell_type": "code",
   "execution_count": 15,
   "metadata": {},
   "outputs": [
    {
     "data": {
      "text/html": [
       "<div>\n",
       "<style scoped>\n",
       "    .dataframe tbody tr th:only-of-type {\n",
       "        vertical-align: middle;\n",
       "    }\n",
       "\n",
       "    .dataframe tbody tr th {\n",
       "        vertical-align: top;\n",
       "    }\n",
       "\n",
       "    .dataframe thead th {\n",
       "        text-align: right;\n",
       "    }\n",
       "</style>\n",
       "<table border=\"1\" class=\"dataframe\">\n",
       "  <thead>\n",
       "    <tr style=\"text-align: right;\">\n",
       "      <th></th>\n",
       "      <th>Season</th>\n",
       "      <th>Dugout</th>\n",
       "      <th>Tm</th>\n",
       "      <th>PA</th>\n",
       "      <th>BB%</th>\n",
       "      <th>K%</th>\n",
       "      <th>BB/K</th>\n",
       "      <th>AVG</th>\n",
       "      <th>OBP</th>\n",
       "      <th>SLG</th>\n",
       "      <th>OPS</th>\n",
       "      <th>ISO</th>\n",
       "      <th>BABIP</th>\n",
       "      <th>wRC</th>\n",
       "      <th>wRAA</th>\n",
       "      <th>wOBA</th>\n",
       "      <th>wRC+</th>\n",
       "    </tr>\n",
       "  </thead>\n",
       "  <tbody>\n",
       "    <tr>\n",
       "      <th>2</th>\n",
       "      <td>2017</td>\n",
       "      <td>Home</td>\n",
       "      <td>HOU</td>\n",
       "      <td>3009</td>\n",
       "      <td>0.077</td>\n",
       "      <td>0.167</td>\n",
       "      <td>0.5</td>\n",
       "      <td>0.279</td>\n",
       "      <td>0.340</td>\n",
       "      <td>0.472</td>\n",
       "      <td>0.812</td>\n",
       "      <td>0.193</td>\n",
       "      <td>0.302</td>\n",
       "      <td>425</td>\n",
       "      <td>58.3</td>\n",
       "      <td>0.344</td>\n",
       "      <td>121</td>\n",
       "    </tr>\n",
       "    <tr>\n",
       "      <th>3</th>\n",
       "      <td>2017</td>\n",
       "      <td>Away</td>\n",
       "      <td>HOU</td>\n",
       "      <td>3262</td>\n",
       "      <td>0.085</td>\n",
       "      <td>0.179</td>\n",
       "      <td>0.5</td>\n",
       "      <td>0.284</td>\n",
       "      <td>0.351</td>\n",
       "      <td>0.483</td>\n",
       "      <td>0.834</td>\n",
       "      <td>0.199</td>\n",
       "      <td>0.315</td>\n",
       "      <td>486</td>\n",
       "      <td>88.8</td>\n",
       "      <td>0.353</td>\n",
       "      <td>121</td>\n",
       "    </tr>\n",
       "  </tbody>\n",
       "</table>\n",
       "</div>"
      ],
      "text/plain": [
       "   Season Dugout   Tm    PA    BB%     K%  BB/K    AVG    OBP    SLG    OPS  \\\n",
       "2    2017   Home  HOU  3009  0.077  0.167   0.5  0.279  0.340  0.472  0.812   \n",
       "3    2017   Away  HOU  3262  0.085  0.179   0.5  0.284  0.351  0.483  0.834   \n",
       "\n",
       "     ISO  BABIP  wRC  wRAA   wOBA  wRC+  \n",
       "2  0.193  0.302  425  58.3  0.344   121  \n",
       "3  0.199  0.315  486  88.8  0.353   121  "
      ]
     },
     "execution_count": 15,
     "metadata": {},
     "output_type": "execute_result"
    }
   ],
   "source": [
    "#Filtering down sp dataframe to look at just the home vs away splits for 2017 season.\n",
    "tws = sp[sp['Season'] == 2017]\n",
    "tws"
   ]
  }
 ],
 "metadata": {
  "kernelspec": {
   "display_name": "Python 3.10.2 64-bit",
   "language": "python",
   "name": "python3"
  },
  "language_info": {
   "codemirror_mode": {
    "name": "ipython",
    "version": 3
   },
   "file_extension": ".py",
   "mimetype": "text/x-python",
   "name": "python",
   "nbconvert_exporter": "python",
   "pygments_lexer": "ipython3",
   "version": "3.10.2"
  },
  "orig_nbformat": 4,
  "vscode": {
   "interpreter": {
    "hash": "63465ed57a11da60c9a231576fa306a71b2301442b744169ec1772ff70a24dfe"
   }
  }
 },
 "nbformat": 4,
 "nbformat_minor": 2
}
